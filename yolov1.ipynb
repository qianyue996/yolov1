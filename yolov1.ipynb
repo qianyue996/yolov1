{
 "cells": [
  {
   "cell_type": "code",
   "execution_count": null,
   "metadata": {},
   "outputs": [],
   "source": [
    "import torch\n",
    "from torch import nn\n",
    "from torchvision.models import resnet18, ResNet18_Weights, resnet50, ResNet50_Weights\n",
    "\n",
    "# resnet50 = resnet50(weights=ResNet50_Weights.IMAGENET1K_V1)\n",
    "\n",
    "S = 7\n",
    "C = 20\n",
    "\n",
    "resnet18 = resnet18(weights=ResNet18_Weights.IMAGENET1K_V1)\n",
    "backbone = nn.Sequential(*list(resnet18.children())[:-2])  # 去掉最后两层"
   ]
  },
  {
   "cell_type": "code",
   "execution_count": null,
   "metadata": {},
   "outputs": [],
   "source": [
    "head=nn.Sequential(\n",
    "    nn.Conv2d(in_channels=512,out_channels=1024,kernel_size=3,padding=1), # (batch,1024,14,14)\n",
    "    nn.LeakyReLU(0.1),\n",
    "    nn.Conv2d(in_channels=1024,out_channels=1024,kernel_size=3,padding=1),\n",
    "    nn.LeakyReLU(0.1),\n",
    "    nn.Conv2d(in_channels=1024,out_channels=1024,kernel_size=3,padding=1), # (batch,1024,7,7)\n",
    "    nn.LeakyReLU(0.1),\n",
    "\n",
    "    nn.Flatten(),\n",
    "    nn.Linear(in_features=S*S*4096,out_features=4096),\n",
    "    nn.Dropout(),\n",
    "    nn.LeakyReLU(0.1),\n",
    "    nn.Linear(in_features=4096,out_features=S*S*(10+C)),\n",
    "    nn.Sigmoid()\n",
    ")"
   ]
  },
  {
   "cell_type": "code",
   "execution_count": null,
   "metadata": {},
   "outputs": [],
   "source": [
    "input = torch.randn(1,3,448,448)\n",
    "output = backbone(input)\n",
    "output = head(output)\n",
    "\n",
    "output.shape"
   ]
  },
  {
   "cell_type": "code",
   "execution_count": null,
   "metadata": {},
   "outputs": [],
   "source": [
    "from torch.utils.data.dataloader import DataLoader\n",
    "from datasets import YoloVOCDataset\n",
    "\n",
    "dataloader = DataLoader(YoloVOCDataset(448, 7, 20), shuffle=True)\n",
    "\n",
    "for batch_x,batch_y in dataloader:\n",
    "    batch_x,batch_y=batch_x.to('cpu'),batch_y.to('cpu')"
   ]
  },
  {
   "cell_type": "code",
   "execution_count": null,
   "metadata": {},
   "outputs": [],
   "source": []
  }
 ],
 "metadata": {
  "kernelspec": {
   "display_name": "yolov1",
   "language": "python",
   "name": "python3"
  },
  "language_info": {
   "codemirror_mode": {
    "name": "ipython",
    "version": 3
   },
   "file_extension": ".py",
   "mimetype": "text/x-python",
   "name": "python",
   "nbconvert_exporter": "python",
   "pygments_lexer": "ipython3",
   "version": "3.10.14"
  }
 },
 "nbformat": 4,
 "nbformat_minor": 2
}
