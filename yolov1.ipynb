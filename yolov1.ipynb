{
 "cells": [
  {
   "cell_type": "code",
   "execution_count": null,
   "metadata": {},
   "outputs": [],
   "source": [
    "import cv2 as cv\n",
    "import torch\n",
    "import numpy as np\n",
    "import os\n",
    "import json\n",
    "from torch import nn\n",
    "from torchvision.models import resnet18, ResNet18_Weights\n",
    "from torchvision.datasets import VOCDetection\n",
    "from torchvision.transforms import ToTensor\n",
    "\n",
    "from datasets import YoloVOCDataset\n",
    "from utils.my_dataset import YoloDataset\n",
    "from model import Yolov1\n",
    "from utils.draw import draw_box"
   ]
  },
  {
   "cell_type": "code",
   "execution_count": null,
   "metadata": {},
   "outputs": [],
   "source": [
    "device='cpu'\n",
    "IMG_SIZE=224\n",
    "S=7\n",
    "C=1\n",
    "\n",
    "grid_size=IMG_SIZE/S\n",
    "\n",
    "model=Yolov1(S,C).to(device)\n",
    "model.load_state_dict(torch.load('checkpoint.pth',map_location=device)['model'])\n",
    "model.eval()\n",
    "\n",
    "# ds=YoloVOCDataset(IMG_SIZE,S,C)"
   ]
  },
  {
   "cell_type": "code",
   "execution_count": 5,
   "metadata": {},
   "outputs": [],
   "source": [
    "path=os.path.join('data\\VOCdevkit\\VOC2012\\JPEGImages','2007_000068.jpg')\n",
    "img=cv.imread(path)\n",
    "\n",
    "img=cv.resize(img,(IMG_SIZE,IMG_SIZE))\n",
    "input=ToTensor()(img)\n",
    "\n",
    "output=model(input.unsqueeze(0))[0]\n",
    "\n",
    "for i in range(S):\n",
    "    for j in range(S):\n",
    "        if output[i,j,4]>0.5:\n",
    "            draw_box(img,i,j,output[i,j,:5],IMG_SIZE,S)\n",
    "        if output[i,j,9]>0.5:\n",
    "            draw_box(img,i,j,output[i,j,5:10],IMG_SIZE,S)\n",
    "\n",
    "img=cv.resize(img,(512,512))\n",
    "cv.imshow('Camera', img)\n",
    "cv.waitKey(0)\n",
    "cv.destroyAllWindows()"
   ]
  }
 ],
 "metadata": {
  "kernelspec": {
   "display_name": "yolov1",
   "language": "python",
   "name": "python3"
  },
  "language_info": {
   "codemirror_mode": {
    "name": "ipython",
    "version": 3
   },
   "file_extension": ".py",
   "mimetype": "text/x-python",
   "name": "python",
   "nbconvert_exporter": "python",
   "pygments_lexer": "ipython3",
   "version": "3.10.14"
  }
 },
 "nbformat": 4,
 "nbformat_minor": 2
}
