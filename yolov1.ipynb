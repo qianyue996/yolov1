{
 "cells": [
  {
   "cell_type": "code",
   "execution_count": 1,
   "metadata": {},
   "outputs": [],
   "source": [
    "import cv2 as cv\n",
    "import torch\n",
    "import numpy as np\n",
    "import os\n",
    "import json\n",
    "from torch import nn\n",
    "from torchvision.models import resnet18, ResNet18_Weights\n",
    "from torchvision.datasets import VOCDetection\n",
    "from torchvision.transforms import ToTensor\n",
    "\n",
    "from datasets import YoloVOCDataset\n",
    "from utils.my_dataset import YoloDataset\n",
    "from model import Yolov1"
   ]
  },
  {
   "cell_type": "code",
   "execution_count": null,
   "metadata": {},
   "outputs": [],
   "source": [
    "device='cpu'\n",
    "IMG_SIZE=224\n",
    "S=7\n",
    "C=20\n",
    "\n",
    "grid_size=IMG_SIZE/S\n",
    "\n",
    "model=Yolov1(S,C).to(device)\n",
    "model.load_state_dict(torch.load('checkpoint.pth',map_location=device)['model'])\n",
    "model.eval()\n",
    "\n",
    "# ds=YoloVOCDataset(IMG_SIZE,S,C)"
   ]
  },
  {
   "cell_type": "code",
   "execution_count": 3,
   "metadata": {},
   "outputs": [],
   "source": [
    "def draw_box(img,row,col,output):\n",
    "    grid_size=IMG_SIZE/S\n",
    "\n",
    "    # 坐标还原（仅在3x448x448中）\n",
    "    cx,cy=grid_size*(col+output[0]),grid_size*(row+output[1])\n",
    "    w,h=output[2]*IMG_SIZE,output[3]*IMG_SIZE\n",
    "    xmin,ymin,xmax,ymax=cx-w/2,cy-h/2,cx+w/2,cy+h/2\n",
    "\n",
    "    # 缩放到原图坐标\n",
    "    x_scale=img.shape[1]/IMG_SIZE\n",
    "    y_scale=img.shape[0]/IMG_SIZE\n",
    "    cx,cy=cx*x_scale,cy*y_scale\n",
    "    xmin,ymin,xmax,ymax=xmin*x_scale,ymin*y_scale,xmax*x_scale,ymax*y_scale\n",
    "\n",
    "    # 画框rectangle\n",
    "    cv.rectangle(img,(int(xmin),int(ymin)),(int(xmax),int(ymax)),color=(0,0,255))"
   ]
  },
  {
   "cell_type": "code",
   "execution_count": 6,
   "metadata": {},
   "outputs": [
    {
     "ename": "error",
     "evalue": "OpenCV(4.11.0) D:\\a\\opencv-python\\opencv-python\\opencv\\modules\\imgproc\\src\\resize.cpp:4208: error: (-215:Assertion failed) !ssize.empty() in function 'cv::resize'\n",
     "output_type": "error",
     "traceback": [
      "\u001b[1;31m---------------------------------------------------------------------------\u001b[0m",
      "\u001b[1;31merror\u001b[0m                                     Traceback (most recent call last)",
      "Cell \u001b[1;32mIn[6], line 7\u001b[0m\n\u001b[0;32m      1\u001b[0m \u001b[38;5;66;03m# my_ds=YoloDataset(IMG_SIZE,S,C)\u001b[39;00m\n\u001b[0;32m      2\u001b[0m \u001b[38;5;66;03m# img=my_ds.get_item(0)\u001b[39;00m\n\u001b[0;32m      3\u001b[0m \u001b[38;5;66;03m# input=my_ds[0][0]\u001b[39;00m\n\u001b[0;32m      4\u001b[0m \u001b[38;5;66;03m# img=cv.resize(img,(IMG_SIZE,IMG_SIZE))\u001b[39;00m\n\u001b[0;32m      6\u001b[0m img\u001b[38;5;241m=\u001b[39mcv\u001b[38;5;241m.\u001b[39mimread(\u001b[38;5;124m'\u001b[39m\u001b[38;5;124mdata\u001b[39m\u001b[38;5;124m\\\u001b[39m\u001b[38;5;124mVOCdevkit\u001b[39m\u001b[38;5;124m\\\u001b[39m\u001b[38;5;124mVOC2012\u001b[39m\u001b[38;5;124m\\\u001b[39m\u001b[38;5;124mJPEGImages\u001b[39m\u001b[38;5;130;01m\\200\u001b[39;00m\u001b[38;5;124m7_000027.jpg\u001b[39m\u001b[38;5;124m'\u001b[39m)\n\u001b[1;32m----> 7\u001b[0m img\u001b[38;5;241m=\u001b[39m\u001b[43mcv\u001b[49m\u001b[38;5;241;43m.\u001b[39;49m\u001b[43mresize\u001b[49m\u001b[43m(\u001b[49m\u001b[43mimg\u001b[49m\u001b[43m,\u001b[49m\u001b[43m(\u001b[49m\u001b[43mIMG_SIZE\u001b[49m\u001b[43m,\u001b[49m\u001b[43mIMG_SIZE\u001b[49m\u001b[43m)\u001b[49m\u001b[43m)\u001b[49m\n\u001b[0;32m      8\u001b[0m \u001b[38;5;28minput\u001b[39m\u001b[38;5;241m=\u001b[39mToTensor()()\n\u001b[0;32m     10\u001b[0m output\u001b[38;5;241m=\u001b[39mmodel(\u001b[38;5;28minput\u001b[39m\u001b[38;5;241m.\u001b[39munsqueeze(\u001b[38;5;241m0\u001b[39m))[\u001b[38;5;241m0\u001b[39m]\n",
      "\u001b[1;31merror\u001b[0m: OpenCV(4.11.0) D:\\a\\opencv-python\\opencv-python\\opencv\\modules\\imgproc\\src\\resize.cpp:4208: error: (-215:Assertion failed) !ssize.empty() in function 'cv::resize'\n"
     ]
    }
   ],
   "source": [
    "# my_ds=YoloDataset(IMG_SIZE,S,C)\n",
    "# img=my_ds.get_item(0)\n",
    "# input=my_ds[0][0]\n",
    "# img=cv.resize(img,(IMG_SIZE,IMG_SIZE))\n",
    "\n",
    "img=cv.imread('data\\VOCdevkit\\VOC2012\\JPEGImages\\2007_000027.jpg')\n",
    "img=cv.resize(img,(IMG_SIZE,IMG_SIZE))\n",
    "input=ToTensor()()\n",
    "\n",
    "output=model(input.unsqueeze(0))[0]\n",
    "\n",
    "for i in range(S):\n",
    "    for j in range(S):\n",
    "        if output[i,j,4]>0.5:\n",
    "            draw_box(img,i,j,output[i,j,:5])\n",
    "        if output[i,j,9]>0.5:\n",
    "            draw_box(img,i,j,output[i,j,5:10])\n",
    "cv.imshow('Camera', img)\n",
    "cv.waitKey(0)\n",
    "cv.destroyAllWindows()\n",
    "\n",
    "\n",
    "# cv.rectangle(img,(xmin,ymin),(xmax,ymax),(0,0,255))\n",
    "# cv.imshow('img',img)\n",
    "# cv.waitKey(0)\n",
    "# cv.destroyAllWindows()"
   ]
  },
  {
   "cell_type": "code",
   "execution_count": 5,
   "metadata": {},
   "outputs": [],
   "source": [
    "img"
   ]
  },
  {
   "cell_type": "code",
   "execution_count": null,
   "metadata": {},
   "outputs": [],
   "source": []
  },
  {
   "cell_type": "code",
   "execution_count": 2,
   "metadata": {},
   "outputs": [],
   "source": [
    "cv.imread('data\\VOCdevkit\\VOC2012\\JPEGImages\\2007_000027.jpg')"
   ]
  },
  {
   "cell_type": "code",
   "execution_count": null,
   "metadata": {},
   "outputs": [],
   "source": []
  }
 ],
 "metadata": {
  "kernelspec": {
   "display_name": "yolov1",
   "language": "python",
   "name": "python3"
  },
  "language_info": {
   "codemirror_mode": {
    "name": "ipython",
    "version": 3
   },
   "file_extension": ".py",
   "mimetype": "text/x-python",
   "name": "python",
   "nbconvert_exporter": "python",
   "pygments_lexer": "ipython3",
   "version": "3.10.14"
  }
 },
 "nbformat": 4,
 "nbformat_minor": 2
}
